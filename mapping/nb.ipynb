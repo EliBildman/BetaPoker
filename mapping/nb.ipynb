{
 "cells": [
  {
   "cell_type": "markdown",
   "metadata": {},
   "source": [
    "## Set Configs"
   ]
  },
  {
   "cell_type": "code",
   "execution_count": null,
   "metadata": {},
   "outputs": [],
   "source": [
    "from comp_agents import run_test\n",
    "from agents.random_agent import rand_agent\n",
    "from agents.cfr_agent import CFRAgent\n",
    "from agents.call_agent import call_agent\n",
    "from agents.raise_agent import raise_agent\n",
    "from pickle import load\n",
    "\n",
    "test_config = {\n",
    "    'starting_stacks': (100, 100),\n",
    "    'blinds': (0.5, 1),\n",
    "    'num_tests': 100\n",
    "}\n",
    "\n",
    "cfr_config = {\n",
    "    'wrs': [0.2, 0.3, 0.4, 0.5, 0.6, 0.7, 0.8]\n",
    "}"
   ]
  },
  {
   "cell_type": "markdown",
   "metadata": {},
   "source": [
    "## Load Strat"
   ]
  },
  {
   "cell_type": "code",
   "execution_count": null,
   "metadata": {},
   "outputs": [],
   "source": [
    "with open('../strats/strat.dic', 'rb') as f:\n",
    "    strat = load(f)"
   ]
  },
  {
   "cell_type": "markdown",
   "metadata": {},
   "source": [
    "## Create CFR Agent"
   ]
  },
  {
   "cell_type": "code",
   "execution_count": null,
   "metadata": {},
   "outputs": [],
   "source": [
    "cfr_agent = CFRAgent(strat, cfr_config)"
   ]
  },
  {
   "cell_type": "markdown",
   "metadata": {},
   "source": [
    "## Run Test"
   ]
  },
  {
   "cell_type": "code",
   "execution_count": null,
   "metadata": {},
   "outputs": [],
   "source": [
    "AGENT_A = cfr_agent.algo #must get the algo from cfr agents\n",
    "AGENT_B = rand_agent\n",
    "\n",
    "result = run_test(test_config, cfr_agent.algo, rand_agent)\n",
    "\n",
    "print('Winrates, Average Take of P1:')\n",
    "print(result.wrs(), result.avg_take())\n"
   ]
  }
 ],
 "metadata": {
  "interpreter": {
   "hash": "949777d72b0d2535278d3dc13498b2535136f6dfe0678499012e853ee9abcab1"
  },
  "kernelspec": {
   "display_name": "Python 3.8.5 64-bit",
   "language": "python",
   "name": "python3"
  },
  "language_info": {
   "codemirror_mode": {
    "name": "ipython",
    "version": 3
   },
   "file_extension": ".py",
   "mimetype": "text/x-python",
   "name": "python",
   "nbconvert_exporter": "python",
   "pygments_lexer": "ipython3",
   "version": "3.8.5"
  },
  "orig_nbformat": 4
 },
 "nbformat": 4,
 "nbformat_minor": 2
}
